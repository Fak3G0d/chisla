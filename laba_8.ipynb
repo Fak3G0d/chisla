{
 "cells": [
  {
   "cell_type": "code",
   "execution_count": 146,
   "id": "d7d50452-0d8c-4b58-b699-15305355f9ca",
   "metadata": {},
   "outputs": [],
   "source": [
    "import numpy as np\n",
    "import sympy as sp\n",
    "from sympy.solvers.solveset import solvify\n",
    "from sympy import Matrix as M"
   ]
  },
  {
   "cell_type": "code",
   "execution_count": 147,
   "id": "407277e8-7367-4e06-b92b-18cc13d5c61a",
   "metadata": {},
   "outputs": [],
   "source": [
    "def m_by_d(A, d):\n",
    "    N = len(A)\n",
    "    M = len(A[0])\n",
    "    C = [[0]*len(A[0]) for i in range(len(A))]\n",
    "    for i in range(N):\n",
    "        for j in range(M):\n",
    "            C[i][j] = A[i][j] * d\n",
    "    return C"
   ]
  },
  {
   "cell_type": "code",
   "execution_count": 148,
   "id": "3d1adaf0-9240-4f74-9228-be594225018f",
   "metadata": {},
   "outputs": [
    {
     "data": {
      "text/plain": [
       "[[2, 4, 6], [6, 8, 10]]"
      ]
     },
     "execution_count": 148,
     "metadata": {},
     "output_type": "execute_result"
    }
   ],
   "source": [
    "m_by_d([[1,2,3], [3,4,5]], 2)"
   ]
  },
  {
   "cell_type": "code",
   "execution_count": 149,
   "id": "a3a80102-202a-41d6-ad6b-68f9b35345c9",
   "metadata": {},
   "outputs": [],
   "source": [
    "def m_plmin_d(A, d, flag): # 0 - plus, 1 - minus\n",
    "    N = len(A)\n",
    "    M = len(A[0])\n",
    "    C = [[0]*len(A[0]) for i in range(len(A))]\n",
    "    for i in range(N):\n",
    "        for j in range(M):\n",
    "            if flag == 0:\n",
    "                C[i][j] = A[i][j] + d\n",
    "            else:\n",
    "                C[i][j] = A[i][j] - d\n",
    "    return C"
   ]
  },
  {
   "cell_type": "code",
   "execution_count": 150,
   "id": "ab2476a7-1b02-4d14-b0df-4e7cf8a98792",
   "metadata": {},
   "outputs": [],
   "source": [
    "def m_plmin_m(A, B, flag): # 0 - plus, 1 - minus\n",
    "    N = len(A)\n",
    "    M = len(A[0])\n",
    "    C = [[0]*len(A[0]) for i in range(len(A))]\n",
    "    for i in range(N):\n",
    "        for j in range(M):\n",
    "            if flag == 0:\n",
    "                C[i][j] = A[i][j] + B[i][j]\n",
    "            else:\n",
    "                C[i][j] = A[i][j] - B[i][j]\n",
    "    return C"
   ]
  },
  {
   "cell_type": "code",
   "execution_count": 151,
   "id": "fc6edffb-8c41-4ed6-8c24-07a1202edadf",
   "metadata": {},
   "outputs": [],
   "source": [
    "def m_by_v(A, B):\n",
    "    N = len(B)\n",
    "    M = len(A[0])\n",
    "    C = [[0] for i in range(N)]\n",
    "    for i in range(N):\n",
    "        tmp = 0\n",
    "        for j in range(M):\n",
    "            tmp += A[i][j] * B[j][0]\n",
    "        C[i][0] = tmp\n",
    "    return C"
   ]
  },
  {
   "cell_type": "code",
   "execution_count": 152,
   "id": "1a5714b8-7037-4a50-82d2-0ca297dd407e",
   "metadata": {},
   "outputs": [
    {
     "data": {
      "text/plain": [
       "[[5], [11]]"
      ]
     },
     "execution_count": 152,
     "metadata": {},
     "output_type": "execute_result"
    }
   ],
   "source": [
    "m_by_v([[1,2], [3,4]], [[1],[2]])"
   ]
  },
  {
   "cell_type": "code",
   "execution_count": 178,
   "id": "d3b04d60-1789-489b-8c38-03da7bac9121",
   "metadata": {},
   "outputs": [],
   "source": [
    "A = [\n",
    "    [6,3,2],\n",
    "    [4,7,1],\n",
    "    [5,2,9]]\n",
    "b = [[4],[7],[2]]"
   ]
  },
  {
   "cell_type": "code",
   "execution_count": 154,
   "id": "a91f7b91-d2fe-42c9-87a4-b7d9e5fbf284",
   "metadata": {},
   "outputs": [],
   "source": [
    "A = [[2, 1, -1], [-1, -1, 2], [-2, 1, 2]]\n",
    "b = [[1], [2], [1]]"
   ]
  },
  {
   "cell_type": "code",
   "execution_count": 155,
   "id": "c3cc61dd-efe0-4f88-b503-b204af40529e",
   "metadata": {},
   "outputs": [],
   "source": [
    "def genmatrix_1(A):\n",
    "    C = [[0]*len(A) for i in range(len(A[0]))]\n",
    "    for i in range(len(A)):\n",
    "        for j in range(len(A[0])):\n",
    "            if i!=j:\n",
    "                C[i][j] = -A[i][j]/A[i][i]\n",
    "            else:\n",
    "                C[i][j] = 0\n",
    "    return C"
   ]
  },
  {
   "cell_type": "code",
   "execution_count": 156,
   "id": "08c1443b-67d8-434b-804b-2adffd8a7875",
   "metadata": {},
   "outputs": [
    {
     "name": "stdout",
     "output_type": "stream",
     "text": [
      "[[0, -0.5, 0.5], [-1.0, 0, 2.0], [1.0, -0.5, 0]]\n"
     ]
    }
   ],
   "source": [
    "C = genmatrix_1(A)\n",
    "print(C)"
   ]
  },
  {
   "cell_type": "code",
   "execution_count": 157,
   "id": "6189bc7d-8f82-4eab-9157-748cb4a72a3a",
   "metadata": {},
   "outputs": [],
   "source": [
    "def genmatrix_2(A,b):\n",
    "    C = [[0] for i in range(len(b))]\n",
    "    for i in range(len(A)):\n",
    "        C[i][0] = b[i][0]/A[i][i]\n",
    "    return C"
   ]
  },
  {
   "cell_type": "code",
   "execution_count": 158,
   "id": "11dbb071-4277-4bc1-ad82-268bbf43c049",
   "metadata": {},
   "outputs": [
    {
     "name": "stdout",
     "output_type": "stream",
     "text": [
      "[[0.5], [-2.0], [0.5]]\n"
     ]
    }
   ],
   "source": [
    "d = genmatrix_2(A, b)\n",
    "print(d)"
   ]
  },
  {
   "cell_type": "code",
   "execution_count": 159,
   "id": "7138f65b-cc0a-40ac-bcfc-510e698cb0eb",
   "metadata": {},
   "outputs": [],
   "source": [
    "x = [[] for i in range(100)]\n",
    "x[0] = [[0],[0],[0]]\n",
    "x[1] = m_plmin_m(m_by_v(C, x[0]), d, 0)\n",
    "\n",
    "for i in range(1, 100):\n",
    "    x[i] = m_plmin_m(m_by_v(C, x[i-1]), d, 0)\n"
   ]
  },
  {
   "cell_type": "code",
   "execution_count": 160,
   "id": "beab5a20-87b8-4cb4-8eb3-00b37d8288b6",
   "metadata": {},
   "outputs": [
    {
     "data": {
      "text/plain": [
       "[[1.2858111505533736], [0.14286790561704166], [1.7144148674044979]]"
      ]
     },
     "execution_count": 160,
     "metadata": {},
     "output_type": "execute_result"
    }
   ],
   "source": [
    "x[99]"
   ]
  },
  {
   "cell_type": "code",
   "execution_count": 161,
   "id": "72fa3630-091f-4972-b3d1-66289094c860",
   "metadata": {},
   "outputs": [
    {
     "data": {
      "text/plain": [
       "[[5.022621286054907e-05], [0.00017579174501136663], [0.00010045242572065405]]"
      ]
     },
     "execution_count": 161,
     "metadata": {},
     "output_type": "execute_result"
    }
   ],
   "source": [
    "m_plmin_m(x[99], x[98], 1)"
   ]
  },
  {
   "cell_type": "markdown",
   "id": "84ca11af-a87f-446b-8ac0-5f5b616e3951",
   "metadata": {},
   "source": [
    "2-АЯ ЧАСТЬ"
   ]
  },
  {
   "cell_type": "code",
   "execution_count": 162,
   "id": "5d174074-17ad-4817-a872-6358ebfa51d1",
   "metadata": {},
   "outputs": [],
   "source": [
    "A = sp.Matrix([\n",
    "    [6,3,2],\n",
    "    [4,7,1],\n",
    "    [5,2,9]])\n",
    "b = sp.Matrix([[4],[7],[2]])"
   ]
  },
  {
   "cell_type": "code",
   "execution_count": 179,
   "id": "22fde0d4-4982-4c3f-9e38-5f01ff89f84b",
   "metadata": {},
   "outputs": [],
   "source": [
    "A = M([[2, 1, -1], [-1, -1, 2], [-2, 1, 2]])\n",
    "b = M([[1], [2], [1]])"
   ]
  },
  {
   "cell_type": "code",
   "execution_count": 206,
   "id": "b255edf0-d451-4716-90c0-50980dc05fb2",
   "metadata": {},
   "outputs": [],
   "source": [
    "A = M([[5, 2, -5],\n",
    "     [2, -1, 3], \n",
    "     [3, 2, -1]])\n",
    "b = M([[-1], [13], [9]])"
   ]
  },
  {
   "cell_type": "code",
   "execution_count": 207,
   "id": "2b45e1af-ab3c-493c-bee9-e62e919b6016",
   "metadata": {},
   "outputs": [],
   "source": [
    "x[0] = sp.Matrix([[0],[0],[0]])\n",
    "r = [0 for i in range(20)]\n",
    "r[0] = sp.Matrix(A.dot(x[0]))-b"
   ]
  },
  {
   "cell_type": "code",
   "execution_count": 208,
   "id": "9402f419-4410-484a-874a-4f9f99c5c80b",
   "metadata": {},
   "outputs": [
    {
     "data": {
      "text/latex": [
       "$\\displaystyle \\left(1 - 24 r_{1}\\right)^{2} + \\left(12 r_{1} - 13\\right)^{2} + \\left(14 r_{1} - 9\\right)^{2}$"
      ],
      "text/plain": [
       "(1 - 24*r1)**2 + (12*r1 - 13)**2 + (14*r1 - 9)**2"
      ]
     },
     "execution_count": 208,
     "metadata": {},
     "output_type": "execute_result"
    }
   ],
   "source": [
    "r[1] = r[0] - sp.Matrix(A.dot(r[0]))*sp.Symbol('r1')\n",
    "a = r[1].dot(r[1])\n",
    "a"
   ]
  },
  {
   "cell_type": "code",
   "execution_count": 209,
   "id": "3520e75f-e2d0-418d-be85-0a93d47f5d8f",
   "metadata": {},
   "outputs": [
    {
     "data": {
      "text/latex": [
       "$\\displaystyle \\frac{153}{458}$"
      ],
      "text/plain": [
       "153/458"
      ]
     },
     "execution_count": 209,
     "metadata": {},
     "output_type": "execute_result"
    }
   ],
   "source": [
    "t = [0 for i in range(20)]\n",
    "l = sp.simplify(a)\n",
    "ans = solvify(l, sp.Symbol('r1'), sp.Complexes)\n",
    "t[1] = sp.re(ans[0])\n",
    "t[1]"
   ]
  },
  {
   "cell_type": "code",
   "execution_count": 210,
   "id": "d5a354d3-7f91-4281-8dc4-9da6cbd684f4",
   "metadata": {},
   "outputs": [
    {
     "data": {
      "text/latex": [
       "$\\displaystyle \\left[\\begin{matrix}-7.017467248908\\\\-8.991266375546\\\\-4.323144104803\\end{matrix}\\right]$"
      ],
      "text/plain": [
       "Matrix([\n",
       "[-7.017467248908],\n",
       "[-8.991266375546],\n",
       "[-4.323144104803]])"
      ]
     },
     "execution_count": 210,
     "metadata": {},
     "output_type": "execute_result"
    }
   ],
   "source": [
    "r[1] = r[0] - sp.Matrix(A.dot(r[0]))*t[1]\n",
    "r[1].evalf(13)"
   ]
  },
  {
   "cell_type": "code",
   "execution_count": 211,
   "id": "659759dd-7b19-40ed-9706-b70b6379c378",
   "metadata": {},
   "outputs": [
    {
     "data": {
      "text/latex": [
       "$\\displaystyle \\left[\\begin{matrix}- \\frac{153}{458}\\\\\\frac{1989}{458}\\\\\\frac{1377}{458}\\end{matrix}\\right]$"
      ],
      "text/plain": [
       "Matrix([\n",
       "[-153/458],\n",
       "[1989/458],\n",
       "[1377/458]])"
      ]
     },
     "execution_count": 211,
     "metadata": {},
     "output_type": "execute_result"
    }
   ],
   "source": [
    "x[1] = x[0] - sp.Matrix((sp.Matrix(A.dot(x[0])) - b))*t[1]\n",
    "x[1]"
   ]
  },
  {
   "cell_type": "code",
   "execution_count": 212,
   "id": "1747694f-33fc-4157-8736-97df9fcf3d8b",
   "metadata": {},
   "outputs": [
    {
     "data": {
      "text/latex": [
       "$\\displaystyle \\frac{132085435}{52441}$"
      ],
      "text/plain": [
       "132085435/52441"
      ]
     },
     "execution_count": 212,
     "metadata": {},
     "output_type": "execute_result"
    }
   ],
   "source": [
    "M(A.dot(r[1])).dot(M(A.dot(r[1])))"
   ]
  },
  {
   "cell_type": "code",
   "execution_count": 213,
   "id": "2d93d3ce-0726-46c4-b8fc-c44d4d8b2261",
   "metadata": {},
   "outputs": [
    {
     "data": {
      "text/latex": [
       "$\\displaystyle \\frac{27938106}{52441}$"
      ],
      "text/plain": [
       "27938106/52441"
      ]
     },
     "execution_count": 213,
     "metadata": {},
     "output_type": "execute_result"
    }
   ],
   "source": [
    "r[1].dot(M(A.dot(r[1])))"
   ]
  },
  {
   "cell_type": "code",
   "execution_count": 214,
   "id": "975fb083-11ae-4e77-a358-f21ddbc332ad",
   "metadata": {},
   "outputs": [
    {
     "data": {
      "text/latex": [
       "$\\displaystyle 0.2115154180323$"
      ],
      "text/plain": [
       "0.2115154180323"
      ]
     },
     "execution_count": 214,
     "metadata": {},
     "output_type": "execute_result"
    }
   ],
   "source": [
    "t[2] = r[1].dot(M(A.dot(r[1])))/(M(A.dot(r[1])).dot(M(A.dot(r[1]))))\n",
    "t[2].evalf(13)"
   ]
  },
  {
   "cell_type": "code",
   "execution_count": 215,
   "id": "5443ae65-c5cd-4087-ab79-d54d06061d48",
   "metadata": {},
   "outputs": [
    {
     "data": {
      "text/latex": [
       "$\\displaystyle \\left[\\begin{matrix}-0.3644298860852\\\\-5.181217906624\\\\3.018934750823\\end{matrix}\\right]$"
      ],
      "text/plain": [
       "Matrix([\n",
       "[-0.3644298860852],\n",
       "[ -5.181217906624],\n",
       "[  3.018934750823]])"
      ]
     },
     "execution_count": 215,
     "metadata": {},
     "output_type": "execute_result"
    }
   ],
   "source": [
    "r[2] = r[1] - sp.Matrix(A.dot(r[1]))*t[2]\n",
    "r[2].evalf(13)"
   ]
  },
  {
   "cell_type": "code",
   "execution_count": 216,
   "id": "4d91532c-de2f-42c4-9815-e66f022dce19",
   "metadata": {},
   "outputs": [
    {
     "data": {
      "text/latex": [
       "$\\displaystyle \\left[\\begin{matrix}1.150241383309\\\\6.244586225888\\\\3.920961850882\\end{matrix}\\right]$"
      ],
      "text/plain": [
       "Matrix([\n",
       "[1.150241383309],\n",
       "[6.244586225888],\n",
       "[3.920961850882]])"
      ]
     },
     "execution_count": 216,
     "metadata": {},
     "output_type": "execute_result"
    }
   ],
   "source": [
    "x[2] = x[1] - sp.Matrix((sp.Matrix(A.dot(x[1])) - b))*t[2]\n",
    "x[2].evalf(13)"
   ]
  },
  {
   "cell_type": "code",
   "execution_count": 229,
   "id": "d8d781e6-dccc-4357-8947-e3ed4a9222b6",
   "metadata": {},
   "outputs": [
    {
     "name": "stdout",
     "output_type": "stream",
     "text": [
      "10\n",
      "11\n"
     ]
    }
   ],
   "source": [
    "for i in range(10, 12, 1):\n",
    "    print(i)\n",
    "    t[i] = r[i-1].dot(M(A.dot(r[i-1])))/(M(A.dot(r[i-1])).dot(M(A.dot(r[i-1]))))\n",
    "\n",
    "    r[i] = r[i-1] - sp.Matrix(A.dot(r[i-1]))*t[i]\n",
    "\n",
    "    x[i] = x[i-1] - sp.Matrix((sp.Matrix(A.dot(x[i-1])) - b))*t[i]"
   ]
  },
  {
   "cell_type": "code",
   "execution_count": 233,
   "id": "5444e907-984d-45dd-9459-cc1e0bdbd226",
   "metadata": {},
   "outputs": [
    {
     "data": {
      "text/latex": [
       "$\\displaystyle 3.041064231018 \\cdot 10^{-8}$"
      ],
      "text/plain": [
       "3.041064231018e-8"
      ]
     },
     "execution_count": 233,
     "metadata": {},
     "output_type": "execute_result"
    }
   ],
   "source": [
    "sq = (x[11]-x[10]).dot(x[11]-x[10])\n",
    "sq.evalf(13)"
   ]
  },
  {
   "cell_type": "code",
   "execution_count": 221,
   "id": "1efa34c7-641c-439b-ae88-7ca2745bb93a",
   "metadata": {},
   "outputs": [
    {
     "data": {
      "text/latex": [
       "$\\displaystyle \\left[\\begin{matrix}5 & 2 & -5\\\\2 & -1 & 3\\\\3 & 2 & -1\\end{matrix}\\right]$"
      ],
      "text/plain": [
       "Matrix([\n",
       "[5,  2, -5],\n",
       "[2, -1,  3],\n",
       "[3,  2, -1]])"
      ]
     },
     "execution_count": 221,
     "metadata": {},
     "output_type": "execute_result"
    }
   ],
   "source": [
    "A"
   ]
  },
  {
   "cell_type": "code",
   "execution_count": 230,
   "id": "cc8b4cad-360b-4348-b739-203a803f07f8",
   "metadata": {},
   "outputs": [
    {
     "data": {
      "text/latex": [
       "$\\displaystyle \\left[\\begin{matrix}-2.080148340577\\\\-3.985511044516\\\\2.16868645959\\end{matrix}\\right]$"
      ],
      "text/plain": [
       "Matrix([\n",
       "[-2.080148340577],\n",
       "[-3.985511044516],\n",
       "[  2.16868645959]])"
      ]
     },
     "execution_count": 230,
     "metadata": {},
     "output_type": "execute_result"
    }
   ],
   "source": [
    "r[11].evalf(13)"
   ]
  },
  {
   "cell_type": "code",
   "execution_count": 231,
   "id": "edfc2a63-1dab-48d7-9950-2338c7e07d6e",
   "metadata": {},
   "outputs": [
    {
     "data": {
      "text/latex": [
       "$\\displaystyle \\left[\\begin{matrix}1.198591670563\\\\5.867207991612\\\\4.161504535323\\end{matrix}\\right]$"
      ],
      "text/plain": [
       "Matrix([\n",
       "[1.198591670563],\n",
       "[5.867207991612],\n",
       "[4.161504535323]])"
      ]
     },
     "execution_count": 231,
     "metadata": {},
     "output_type": "execute_result"
    }
   ],
   "source": [
    "x[11].evalf(13)"
   ]
  },
  {
   "cell_type": "code",
   "execution_count": null,
   "id": "16f711d3-3112-4e00-99fe-b65593d39fad",
   "metadata": {},
   "outputs": [],
   "source": [
    "for i in range(5):\n",
    "    r[1] = r[0] - A*r[0]*sp.Symbol('r1')\n",
    "    to_solve = a[0] + a[4] + a[8]\n",
    "    l = sp.simplify(to_solve)\n",
    "    ans = solvify(l, sp.Symbol('r1'), sp.Complexes)\n",
    "    print(sp.re(ans[0]))"
   ]
  },
  {
   "cell_type": "code",
   "execution_count": null,
   "id": "e0ee21ad-f278-436e-a27e-b55c824d0ebc",
   "metadata": {},
   "outputs": [],
   "source": []
  },
  {
   "cell_type": "code",
   "execution_count": null,
   "id": "6a898073-77a1-48cf-970b-d0e9a2c103e2",
   "metadata": {},
   "outputs": [],
   "source": []
  }
 ],
 "metadata": {
  "kernelspec": {
   "display_name": "Python 3",
   "language": "python",
   "name": "python3"
  },
  "language_info": {
   "codemirror_mode": {
    "name": "ipython",
    "version": 3
   },
   "file_extension": ".py",
   "mimetype": "text/x-python",
   "name": "python",
   "nbconvert_exporter": "python",
   "pygments_lexer": "ipython3",
   "version": "3.6.9"
  }
 },
 "nbformat": 4,
 "nbformat_minor": 5
}
