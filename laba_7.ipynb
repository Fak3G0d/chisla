{
 "cells": [
  {
   "cell_type": "code",
   "execution_count": 1,
   "id": "255f588a-0329-40c3-aa20-b1d9a3e47e76",
   "metadata": {},
   "outputs": [],
   "source": [
    "import numpy"
   ]
  },
  {
   "cell_type": "code",
   "execution_count": 15,
   "id": "edf074f5-55b3-4e6c-9ed2-c0494964f510",
   "metadata": {},
   "outputs": [],
   "source": [
    "A = [[5, 2, -5],\n",
    "     [2, -1, 3], \n",
    "     [3, 2, -1]]\n",
    "b = [[-1], [13], [9]]"
   ]
  },
  {
   "cell_type": "code",
   "execution_count": 13,
   "id": "0ee80596-4041-4c63-b75b-1686741336e3",
   "metadata": {},
   "outputs": [],
   "source": [
    "A = [[2, 1, -1], [-1, -1, 2], [-2, 1, 2]]\n",
    "b = [[1], [2], [1]]"
   ]
  },
  {
   "cell_type": "code",
   "execution_count": 4,
   "id": "8d437067-97ac-4631-9172-2cb7c668f11c",
   "metadata": {},
   "outputs": [],
   "source": [
    "A = [[0, 1, 0],\n",
    "     [0, 0, 0], \n",
    "     [0, 1, 0]]\n",
    "b = [[1], [1], [2]]"
   ]
  },
  {
   "cell_type": "code",
   "execution_count": 16,
   "id": "7a193e28-463d-4024-afc9-4fe0fd825eed",
   "metadata": {},
   "outputs": [],
   "source": [
    "eps = 16"
   ]
  },
  {
   "cell_type": "code",
   "execution_count": 17,
   "id": "82325075-8270-4cf8-8d69-b3bb55344b5f",
   "metadata": {},
   "outputs": [],
   "source": [
    "def gauss(A):\n",
    "    n = len(A)\n",
    "    for i in range(0, n):\n",
    "        maxEl = abs(A[i][i])\n",
    "        maxRow = i\n",
    "        for k in range(i + 1, n):\n",
    "            if abs(A[k][i]) > abs(A[i][i]):\n",
    "                maxEl = abs(A[k][i])\n",
    "                maxRow = k\n",
    "        A[maxRow], A[i] = A[i], A[maxRow]\n",
    "        for k in range(i+1, n):\n",
    "            if A[i][i] != 0:\n",
    "                koef = A[k][i]/A[i][i]\n",
    "                for j in range(i, n + 1):\n",
    "\n",
    "                    A[k][j] -= A[i][j] * koef\n",
    "                    A[k][j] = A[k][j]\n",
    "    x = [0 for i in range(n)]\n",
    "    if A[i][i] != 0:\n",
    "        x[n - 1] = A[n - 1][n]/A[n - 1][n - 1] \n",
    "    else:\n",
    "        x[n-1] = 0\n",
    "    for i in range(n-2, -1, -1):\n",
    "        if A[i][i] != 0:\n",
    "            for j in range(n-1, i, -1):\n",
    "                A[i][n] -= A[i][j]*x[j]\n",
    "                A[i][j] = 0\n",
    "            x[i] = A[i][n] / A[i][i]\n",
    "        else:\n",
    "            x[i] = 0\n",
    "\n",
    "    return x"
   ]
  },
  {
   "cell_type": "code",
   "execution_count": 18,
   "id": "65318ac4-4c2a-494f-b382-3683dd7774ed",
   "metadata": {},
   "outputs": [
    {
     "data": {
      "text/plain": [
       "[2.368421052631579, 2.7894736842105248, 3.6842105263157894]"
      ]
     },
     "execution_count": 18,
     "metadata": {},
     "output_type": "execute_result"
    }
   ],
   "source": [
    "gauss([A[i] + b[i] for i in range(len(A))])"
   ]
  },
  {
   "cell_type": "code",
   "execution_count": 29,
   "id": "1a10db83-6ca8-4553-866d-daf578520264",
   "metadata": {},
   "outputs": [],
   "source": [
    "def obratn(A):\n",
    "  E = [[0] * len(A) for i in range(len(A))]\n",
    "  for i in range(len(E)):\n",
    "    for j in range(len(E)):\n",
    "      if i == j:\n",
    "        E[i][j] = 1\n",
    "  ans = [[0] * len(A) for i in range(len(A))]\n",
    "  for it in range(len(A)):\n",
    "    An = [A[i] + [E[i][it]] for i in range(len(A))]\n",
    "    tmp = gauss(An)\n",
    "    print(tmp)\n",
    "    for i in range(len(A)):\n",
    "      ans[i][it] = tmp[i]\n",
    "  return ans   "
   ]
  },
  {
   "cell_type": "code",
   "execution_count": 31,
   "id": "e584c1ee-95f1-452d-bdfa-9eee34f83cab",
   "metadata": {},
   "outputs": [
    {
     "name": "stdout",
     "output_type": "stream",
     "text": [
      "[0.13157894736842105, -0.28947368421052627, -0.18421052631578946]\n",
      "[0.21052631578947367, -0.26315789473684204, 0.10526315789473685]\n",
      "[-0.026315789473684202, 0.6578947368421052, 0.23684210526315788]\n"
     ]
    },
    {
     "data": {
      "text/plain": [
       "[[0.13157894736842105, 0.21052631578947367, -0.026315789473684202],\n",
       " [-0.28947368421052627, -0.26315789473684204, 0.6578947368421052],\n",
       " [-0.18421052631578946, 0.10526315789473685, 0.23684210526315788]]"
      ]
     },
     "execution_count": 31,
     "metadata": {},
     "output_type": "execute_result"
    }
   ],
   "source": [
    "obr = obratn(A)\n",
    "obr"
   ]
  },
  {
   "cell_type": "code",
   "execution_count": 22,
   "id": "98706b93-6262-439f-bd06-383366fcd7f2",
   "metadata": {},
   "outputs": [],
   "source": [
    "def matrix_mult(A, B):\n",
    "    N = len(A)\n",
    "    C = [[0] * len(A) for i in range(len(A))]\n",
    "    for i in range(N):\n",
    "        for j in range(N):\n",
    "            C[i][j] = 0\n",
    "            for k in range(N):\n",
    "                C[i][j] = C[i][j] + A[i][k]*B[k][j]\n",
    "            C[i][j] = round(C[i][j], eps)\n",
    "    return C"
   ]
  },
  {
   "cell_type": "code",
   "execution_count": 23,
   "id": "cbc67ddf-a83d-4a39-897f-36eba379ff05",
   "metadata": {},
   "outputs": [
    {
     "name": "stdout",
     "output_type": "stream",
     "text": [
      "[[1.0, 0.0, 0.0], [0.0, 1.0, 1e-16], [1e-16, 1e-16, 0.9999999999999999]]\n"
     ]
    }
   ],
   "source": [
    "check = matrix_mult(A, obr)\n",
    "print(check)"
   ]
  },
  {
   "cell_type": "code",
   "execution_count": 28,
   "id": "305df3d1-dead-48ef-8aee-8ebcf1a1c5f9",
   "metadata": {},
   "outputs": [
    {
     "name": "stdout",
     "output_type": "stream",
     "text": [
      "Решение системы найдено\n"
     ]
    }
   ],
   "source": [
    "flag = 0\n",
    "for i in range(len(check)):\n",
    "    if flag==0:\n",
    "        for j in range(len(check[i])):\n",
    "            if i!=j:\n",
    "                if round(check[i][j], 3) != 0:\n",
    "                    print(round(check[i][i], 3))\n",
    "                    print(\"Что-то не так\")\n",
    "                    flag = 1\n",
    "                    break\n",
    "            else:\n",
    "                if round(check[i][i], 3) != 1:\n",
    "                    print(round(check[i][i], 3))\n",
    "                    print(\"Что-то не так\")\n",
    "                    flag = 1\n",
    "                    break\n",
    "        \n",
    "if flag == 0:\n",
    "    print(\"Решение системы найдено\")"
   ]
  },
  {
   "cell_type": "code",
   "execution_count": null,
   "id": "ff60c3e0-5f5e-44ff-81ff-6c217572beae",
   "metadata": {},
   "outputs": [],
   "source": []
  },
  {
   "cell_type": "code",
   "execution_count": null,
   "id": "bc9de8c4-384e-4f60-87e5-43decc584018",
   "metadata": {},
   "outputs": [],
   "source": []
  },
  {
   "cell_type": "code",
   "execution_count": null,
   "id": "8fd9dfdb-a313-4f6d-aaac-0b2c360b4d78",
   "metadata": {},
   "outputs": [],
   "source": []
  }
 ],
 "metadata": {
  "kernelspec": {
   "display_name": "Python 3",
   "language": "python",
   "name": "python3"
  },
  "language_info": {
   "codemirror_mode": {
    "name": "ipython",
    "version": 3
   },
   "file_extension": ".py",
   "mimetype": "text/x-python",
   "name": "python",
   "nbconvert_exporter": "python",
   "pygments_lexer": "ipython3",
   "version": "3.6.9"
  }
 },
 "nbformat": 4,
 "nbformat_minor": 5
}
